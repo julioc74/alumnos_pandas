{
 "cells": [
  {
   "cell_type": "code",
   "execution_count": 1,
   "metadata": {},
   "outputs": [
    {
     "name": "stdout",
     "output_type": "stream",
     "text": [
      "     Apellido   Nombre Aficion principal  Peso(Kg)  Estatura(m) Sexo\n",
      "0      Molina  Antonio           Basquet        82         1.81    M\n",
      "3    Castillo   Daniel           Ajedrez        75         1.61    M\n",
      "4     Garrido     Luis             Voley        74         1.86    M\n",
      "5      Medina    Laura            Futbol        71         1.76    F\n",
      "6     Navarro    Julio           Ajedrez        62         1.68    M\n",
      "7     Morales    Jorge           Karaoke        77         1.65    M\n",
      "8      Castro    Tania              Judo        71         1.73    F\n",
      "9       Reyes   Cintia            Musica        62         1.72    F\n",
      "10      Prado      Ana        Reposteria        68         1.71    F\n",
      "11     Chavez     Jose            Futbol        72         1.77    M\n",
      "12       Vega   Carlos       Informatica        65         1.60    M\n",
      "13     Moreno    Julia           Basquet        68         1.76    F\n",
      "14    Escobar    Pedro           Karaoke        62         1.58    M\n",
      "15   Alvarado    Ester            Musica        66         1.69    F\n",
      "16    Zegarra  Alberto              Judo        65         1.67    M\n",
      "18      Borja    Pablo            Futbol        70         1.73    M\n",
      "20      Gomez    Jorge           Lectura        66         1.62    M\n",
      "22      Mejia   Jesica             Voley        68         1.74    F\n",
      "23    Serrano   Ursula              Judo        64         1.72    F\n",
      "24    Jimenez     Luis           Ajedrez        70         1.65    M\n",
      "25    Vazquez     Jose             Voley        67         1.79    M\n",
      "26  Fernandez   Miguel           Ajedrez        72         1.67    M\n",
      "27      Ramos     Raul           Ajedrez        70         1.64    M\n",
      "29    Delgado   Vanesa           Basquet        63         1.77    F\n"
     ]
    }
   ],
   "source": [
    "#primer comentario usando github \n",
    "import pandas as pd\n",
    "\n",
    "columnas = [\"Apellido\", \"Nombre\", \"Aficion principal\", \"Peso(Kg)\", \"Estatura(m)\", \"Sexo\"]\n",
    "apellidos = [\"Molina\", \"Muñoz\", \"Rubio\", \"Castillo\", \"Garrido\", \"Medina\", \"Navarro\", \"Morales\", \"Castro\", \"Reyes\", \"Prado\",\n",
    "             \"Chavez\", \"Vega\", \"Moreno\", \"Escobar\", \"Alvarado\", \"Zegarra\", \"Costa\", \"Borja\", \"Romero\", \"Gomez\", \"Ruiz\", \n",
    "             \"Mejia\", \"Serrano\", \"Jimenez\", \"Vazquez\", \"Fernandez\", \"Ramos\", \"Rodriguez\", \"Delgado\"]\n",
    "nombres = [\"Antonio\", \"Liliana\", \"Ana\", \"Daniel\", \"Luis\", \"Laura\", \"Julio\", \"Jorge\", \"Tania\", \"Cintia\", \"Ana\", \"Jose\", \n",
    "           \"Carlos\", \"Julia\", \"Pedro\", \"Ester\", \"Alberto\", \"Tatiana\", \"Pablo\", \"Marta\", \"Jorge\", \"Rosa\", \"Jesica\", \n",
    "           \"Ursula\", \"Luis\", \"Jose\", \"Miguel\", \"Raul\", \"Susana\", \"Vanesa\"]\n",
    "aficion_principal = [\"Basquet\", \"Futbol\", \"Informatica\", \"Ajedrez\", \"Voley\", \"Futbol\", \"Ajedrez\", \"Karaoke\", \"Judo\",\n",
    "                     \"Musica\", \"Reposteria\", \"Futbol\", \"Informatica\", \"Basquet\", \"Karaoke\", \"Musica\", \"Judo\", \"Teatro\",\n",
    "                     \"Futbol\", \"Karaoke\", \"Lectura\", \"Futbol\", \"Voley\", \"Judo\", \"Ajedrez\", \"Voley\", \"Ajedrez\", \"Ajedrez\",\n",
    "                     \"Karaoke\", \"Basquet\"]\n",
    "peso = [82, 59, 62, 75, 74, 71, 62, 77, 71, 62, 68, 72, 65, 68, 62, \n",
    "        66, 65, 62, 70, 65, 66, 59, 68, 64, 70, 67, 72, 70, 64, 63]\n",
    "estatura = [1.81, 1.65, 1.63, 1.61, 1.86, 1.76, 1.68, 1.65, 1.73, 1.72, 1.71, 1.77, 1.60, 1.76, 1.58, 1.69, 1.67, 1.62, \n",
    "            1.73, 1.61, 1.62, 1.65, 1.74, 1.72, 1.65, 1.79, 1.67, 1.64, 1.68, 1.77]\n",
    "sexo = [\"M\", \"F\", \"F\", \"M\", \"M\", \"F\", \"M\", \"M\", \"F\", \"F\", \"F\", \"M\", \"M\", \"F\", \"M\", \"F\", \"M\", \"F\", \"M\", \"F\", \"M\", \"F\", \n",
    "        \"F\", \"F\", \"M\", \"M\", \"M\", \"M\", \"F\", \"F\"]\n",
    "\n",
    "# construimos el dataframe con las columnas dadas y mediante la funcion zip de python enlazamos dichas listas de columnas creadas\n",
    "datos = list(zip(apellidos, nombres, aficion_principal, peso, estatura, sexo))\n",
    "df = pd.DataFrame(datos, columns=columnas)\n",
    "df\n",
    "\n",
    "\"\"\" El metodo query sirve para filtrar datos y nos devolvera un nuevo dataframe segun la condicion o condiciones que le pidamos; \n",
    "    solo las filas en las cuales se cumplan la condicion o condiciones nos imprimira sus respectivos valores, y los que no, \n",
    "    no se imprimira nada. \n",
    "    En este otro caso le pedimos que nos devuelva un nuevo dataframe en la cual la columna \"Estatura(m)\" tiene al final un \n",
    "    parentesis y dentro de ellas la letra m, prefijo que indica metros. Para que la columna Estatura(m) pueda ser leida debido\n",
    "    a esto debe ser encerrada entre comillas inclinadas (`), al igual que en el caso si es que el nombre de la columna tiene\n",
    "    espacios en blanco. Ademas le pedimos todos los alumnos con Sexo 'M' (masculino) unidos por la conjuncion logica (|) que \n",
    "    significa 'o' es decir basta que cualquiera de las dos condiciones se cumpla para que la condicion resultante sea\n",
    "    verdadera.\"\"\"\n",
    "\n",
    "dataframe_filtrado1 = df.query(\"`Estatura(m)` > 1.68  |  Sexo == 'M'\")\n",
    "print(dataframe_filtrado1)\n",
    "\n",
    "\n",
    "\n",
    "\n",
    "\n",
    "\n",
    "\n",
    "\n"
   ]
  }
 ],
 "metadata": {
  "kernelspec": {
   "display_name": "Python 3",
   "language": "python",
   "name": "python3"
  },
  "language_info": {
   "codemirror_mode": {
    "name": "ipython",
    "version": 3
   },
   "file_extension": ".py",
   "mimetype": "text/x-python",
   "name": "python",
   "nbconvert_exporter": "python",
   "pygments_lexer": "ipython3",
   "version": "3.10.7"
  },
  "orig_nbformat": 4
 },
 "nbformat": 4,
 "nbformat_minor": 2
}
