{
 "cells": [
  {
   "cell_type": "code",
   "execution_count": 2,
   "metadata": {},
   "outputs": [
    {
     "data": {
      "text/html": [
       "<div>\n",
       "<style scoped>\n",
       "    .dataframe tbody tr th:only-of-type {\n",
       "        vertical-align: middle;\n",
       "    }\n",
       "\n",
       "    .dataframe tbody tr th {\n",
       "        vertical-align: top;\n",
       "    }\n",
       "\n",
       "    .dataframe thead th {\n",
       "        text-align: right;\n",
       "    }\n",
       "</style>\n",
       "<table border=\"1\" class=\"dataframe\">\n",
       "  <thead>\n",
       "    <tr style=\"text-align: right;\">\n",
       "      <th></th>\n",
       "      <th>Apellido</th>\n",
       "      <th>Nombre</th>\n",
       "      <th>Aficion principal</th>\n",
       "      <th>Peso(Kg)</th>\n",
       "      <th>Estatura(m)</th>\n",
       "      <th>Sexo</th>\n",
       "    </tr>\n",
       "  </thead>\n",
       "  <tbody>\n",
       "    <tr>\n",
       "      <th>14</th>\n",
       "      <td>Escobar</td>\n",
       "      <td>Pedro</td>\n",
       "      <td>Karaoke</td>\n",
       "      <td>62</td>\n",
       "      <td>1.58</td>\n",
       "      <td>M</td>\n",
       "    </tr>\n",
       "  </tbody>\n",
       "</table>\n",
       "</div>"
      ],
      "text/plain": [
       "   Apellido Nombre Aficion principal  Peso(Kg)  Estatura(m) Sexo\n",
       "14  Escobar  Pedro           Karaoke        62         1.58    M"
      ]
     },
     "execution_count": 2,
     "metadata": {},
     "output_type": "execute_result"
    }
   ],
   "source": [
    "#primer comentario usando github \n",
    "import pandas as pd\n",
    "\n",
    "columnas = [\"Apellido\", \"Nombre\", \"Aficion principal\", \"Peso(Kg)\", \"Estatura(m)\", \"Sexo\"]\n",
    "apellidos = [\"Molina\", \"Muñoz\", \"Rubio\", \"Castillo\", \"Garrido\", \"Medina\", \"Navarro\", \"Morales\", \"Castro\", \"Reyes\", \"Prado\",\n",
    "             \"Chavez\", \"Vega\", \"Moreno\", \"Escobar\", \"Alvarado\", \"Zegarra\", \"Costa\", \"Borja\", \"Romero\", \"Gomez\", \"Ruiz\", \n",
    "             \"Mejia\", \"Serrano\", \"Jimenez\", \"Vazquez\", \"Fernandez\", \"Ramos\", \"Rodriguez\", \"Delgado\"]\n",
    "nombres = [\"Antonio\", \"Liliana\", \"Ana\", \"Daniel\", \"Luis\", \"Laura\", \"Julio\", \"Jorge\", \"Tania\", \"Cintia\", \"Ana\", \"Jose\", \n",
    "           \"Carlos\", \"Julia\", \"Pedro\", \"Ester\", \"Alberto\", \"Tatiana\", \"Pablo\", \"Marta\", \"Jorge\", \"Rosa\", \"Jesica\", \n",
    "           \"Ursula\", \"Luis\", \"Jose\", \"Miguel\", \"Raul\", \"Susana\", \"Vanesa\"]\n",
    "aficion_principal = [\"Basquet\", \"Futbol\", \"Informatica\", \"Ajedrez\", \"Voley\", \"Futbol\", \"Ajedrez\", \"Karaoke\", \"Judo\",\n",
    "                     \"Musica\", \"Reposteria\", \"Futbol\", \"Informatica\", \"Basquet\", \"Karaoke\", \"Musica\", \"Judo\", \"Teatro\",\n",
    "                     \"Futbol\", \"Karaoke\", \"Lectura\", \"Futbol\", \"Voley\", \"Judo\", \"Ajedrez\", \"Voley\", \"Ajedrez\", \"Ajedrez\",\n",
    "                     \"Karaoke\", \"Basquet\"]\n",
    "peso = [82, 59, 62, 75, 74, 71, 62, 77, 71, 62, 68, 72, 65, 68, 62, \n",
    "        66, 65, 62, 70, 65, 66, 59, 68, 64, 70, 67, 72, 70, 64, 63]\n",
    "estatura = [1.81, 1.65, 1.63, 1.61, 1.86, 1.76, 1.68, 1.65, 1.73, 1.72, 1.71, 1.77, 1.60, 1.76, 1.58, 1.69, 1.67, 1.62, \n",
    "            1.73, 1.61, 1.62, 1.65, 1.74, 1.72, 1.65, 1.79, 1.67, 1.64, 1.68, 1.77]\n",
    "sexo = [\"M\", \"F\", \"F\", \"M\", \"M\", \"F\", \"M\", \"M\", \"F\", \"F\", \"F\", \"M\", \"M\", \"F\", \"M\", \"F\", \"M\", \"F\", \"M\", \"F\", \"M\", \"F\", \n",
    "        \"F\", \"F\", \"M\", \"M\", \"M\", \"M\", \"F\", \"F\"]\n",
    "\n",
    "# construimos el dataframe con las columnas dadas y mediante la funcion zip de python enlazamos dichas listas de columnas creadas\n",
    "datos = list(zip(apellidos, nombres, aficion_principal, peso, estatura, sexo))\n",
    "df = pd.DataFrame(datos, columns=columnas)\n",
    "df\n",
    "\n",
    "\"\"\" El metodo query sirve para filtrar datos y nos devolvera un nuevo dataframe segun la condicion o condiciones que le pidamos; \n",
    "    solo las filas en las cuales se cumplan la condicion o condiciones nos imprimira sus respectivos valores, y los que no, \n",
    "    no se imprimira nada. \n",
    "    En este otro caso le pedimos que nos devuelva un nuevo dataframe en la cual la columna \"Apellido\" sea \"Escobar\",\n",
    "    en cuyo caso nos devolvera una sola fila, ya que es la unica que contiene dicho valor pedido\"\"\"\n",
    "dataframe_filtrado1 = df.query('Apellido == \"Escobar\"')\n",
    "dataframe_filtrado1\n",
    "\n",
    "\n",
    "\n",
    "\n",
    "\n",
    "\n",
    "\n",
    "\n"
   ]
  }
 ],
 "metadata": {
  "kernelspec": {
   "display_name": "Python 3",
   "language": "python",
   "name": "python3"
  },
  "language_info": {
   "codemirror_mode": {
    "name": "ipython",
    "version": 3
   },
   "file_extension": ".py",
   "mimetype": "text/x-python",
   "name": "python",
   "nbconvert_exporter": "python",
   "pygments_lexer": "ipython3",
   "version": "3.10.7"
  },
  "orig_nbformat": 4
 },
 "nbformat": 4,
 "nbformat_minor": 2
}
