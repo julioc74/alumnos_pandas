{
 "cells": [
  {
   "cell_type": "code",
   "execution_count": 6,
   "metadata": {},
   "outputs": [
    {
     "data": {
      "text/plain": [
       "count    15.000000\n",
       "mean      1.688667\n",
       "std       0.084250\n",
       "min       1.580000\n",
       "25%       1.630000\n",
       "50%       1.670000\n",
       "75%       1.750000\n",
       "max       1.860000\n",
       "Name: Estatura(m), dtype: float64"
      ]
     },
     "execution_count": 6,
     "metadata": {},
     "output_type": "execute_result"
    }
   ],
   "source": [
    "#primer comentario usando github \n",
    "import pandas as pd\n",
    "\n",
    "columnas = [\"Apellido\", \"Nombre\", \"Aficion principal\", \"Peso(Kg)\", \"Estatura(m)\", \"Sexo\"]\n",
    "apellidos = [\"Molina\", \"Muñoz\", \"Rubio\", \"Castillo\", \"Garrido\", \"Medina\", \"Navarro\", \"Morales\", \"Castro\", \"Reyes\", \"Prado\",\n",
    "             \"Chavez\", \"Vega\", \"Moreno\", \"Escobar\", \"Alvarado\", \"Zegarra\", \"Costa\", \"Borja\", \"Romero\", \"Gomez\", \"Ruiz\", \n",
    "             \"Mejia\", \"Serrano\", \"Jimenez\", \"Vazquez\", \"Fernandez\", \"Ramos\", \"Rodriguez\", \"Delgado\"]\n",
    "nombres = [\"Antonio\", \"Liliana\", \"Ana\", \"Daniel\", \"Luis\", \"Laura\", \"Julio\", \"Jorge\", \"Tania\", \"Cintia\", \"Ana\", \"Jose\", \n",
    "           \"Carlos\", \"Julia\", \"Pedro\", \"Ester\", \"Alberto\", \"Tatiana\", \"Pablo\", \"Marta\", \"Jorge\", \"Rosa\", \"Jesica\", \n",
    "           \"Ursula\", \"Luis\", \"Jose\", \"Miguel\", \"Raul\", \"Susana\", \"Vanesa\"]\n",
    "aficion_principal = [\"Basquet\", \"Futbol\", \"Informatica\", \"Ajedrez\", \"Voley\", \"Futbol\", \"Ajedrez\", \"Karaoke\", \"Judo\",\n",
    "                     \"Musica\", \"Reposteria\", \"Futbol\", \"Informatica\", \"Basquet\", \"Karaoke\", \"Musica\", \"Judo\", \"Teatro\",\n",
    "                     \"Futbol\", \"Karaoke\", \"Lectura\", \"Futbol\", \"Voley\", \"Judo\", \"Ajedrez\", \"Voley\", \"Ajedrez\", \"Ajedrez\",\n",
    "                     \"Karaoke\", \"Basquet\"]\n",
    "peso = [82, 59, 62, 75, 74, 71, 62, 77, 71, 62, 68, 72, 65, 68, 62, \n",
    "        66, 65, 62, 70, 65, 66, 59, 68, 64, 70, 67, 72, 70, 64, 63]\n",
    "estatura = [1.81, 1.65, 1.63, 1.61, 1.86, 1.76, 1.68, 1.65, 1.73, 1.72, 1.71, 1.77, 1.60, 1.76, 1.58, 1.69, 1.67, 1.62, \n",
    "            1.73, 1.61, 1.62, 1.65, 1.74, 1.72, 1.65, 1.79, 1.67, 1.64, 1.68, 1.77]\n",
    "sexo = [\"M\", \"F\", \"F\", \"M\", \"M\", \"F\", \"M\", \"M\", \"F\", \"F\", \"F\", \"M\", \"M\", \"F\", \"M\", \"F\", \"M\", \"F\", \"M\", \"F\", \"M\", \"F\", \n",
    "        \"F\", \"F\", \"M\", \"M\", \"M\", \"M\", \"F\", \"F\"]\n",
    "\n",
    "# construimos el dataframe con las columnas dadas y mediante la funcion zip de python enlazamos dichas listas de columnas creadas\n",
    "datos = list(zip(apellidos, nombres, aficion_principal, peso, estatura, sexo))\n",
    "df = pd.DataFrame(datos, columns=columnas)\n",
    "df\n",
    "\n",
    "# del dataframe original obtenemos de la columna sexo, solo el grupo de hombres\n",
    "df = df.groupby('Sexo').get_group('M')\n",
    "\n",
    "# del grupo anterior (del grupo hombres) obtenemos de la columna 'Estatura(cm)' el promedio\n",
    "df['Estatura(m)'].mean()\n",
    "# del mismo grupo obtenemos de la columna estatura el valor maximo\n",
    "df['Estatura(m)'].max()\n",
    "# del mismo grupo obtenemos de la columna estatura la mediana\n",
    "df['Estatura(m)'].median()\n",
    "# del mismo grupo de la columna estatura, con la funcion describe() obtenemos el min y max, la desviacion estandar y sus quartiles \n",
    "df['Estatura(m)'].describe()\n"
   ]
  }
 ],
 "metadata": {
  "kernelspec": {
   "display_name": "Python 3",
   "language": "python",
   "name": "python3"
  },
  "language_info": {
   "codemirror_mode": {
    "name": "ipython",
    "version": 3
   },
   "file_extension": ".py",
   "mimetype": "text/x-python",
   "name": "python",
   "nbconvert_exporter": "python",
   "pygments_lexer": "ipython3",
   "version": "3.10.7"
  },
  "orig_nbformat": 4
 },
 "nbformat": 4,
 "nbformat_minor": 2
}
